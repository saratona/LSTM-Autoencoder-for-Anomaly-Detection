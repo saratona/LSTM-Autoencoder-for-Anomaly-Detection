{
 "cells": [
  {
   "cell_type": "code",
   "execution_count": 34,
   "id": "e52e8414",
   "metadata": {},
   "outputs": [],
   "source": [
    "import numpy as np\n",
    "import pandas as pd\n",
    "import random\n",
    "import tensorflow as tf\n",
    "from tensorflow import keras\n",
    "import river\n",
    "from river.stream import iter_pandas\n",
    "from river.metrics import Accuracy,BalancedAccuracy,CohenKappa,GeometricMean,ROCAUC,F1\n",
    "from river.evaluate import progressive_val_score\n",
    "from river.naive_bayes import GaussianNB\n",
    "from river.neighbors import KNNClassifier\n",
    "from river.forest import ARFClassifier\n",
    "from river.tree import HoeffdingTreeClassifier\n",
    "from river.tree import HoeffdingAdaptiveTreeClassifier"
   ]
  },
  {
   "cell_type": "code",
   "execution_count": 35,
   "id": "f8d47f5a",
   "metadata": {},
   "outputs": [],
   "source": [
    "from river_torch import classification\n",
    "from torch import nn\n",
    "from torch import optim\n",
    "from torch import manual_seed"
   ]
  },
  {
   "cell_type": "code",
   "execution_count": 36,
   "id": "4a0dbcba",
   "metadata": {},
   "outputs": [],
   "source": [
    "### SET YOUR PARAMETERS\n",
    "\n",
    "dataset = 'fan' #change the dataset to use (fan/pump/valve)\n",
    "\n",
    "shuffle = 0 #set to 1 to shuffle data\n",
    "group_shuffle = 0 #set to 1 to shuffle data in group of 9\n",
    "delay = 0 #change to set a delay in label arrival\n",
    "\n",
    "model = ARFClassifier(seed=42) #(GaussianNB()/KNNClassifier(n_neighbors=2)/HoeffdingTreeClassifier()/KNNClassifier(n_neighbors=2)/HoeffdingAdaptiveTreeClassifier(seed=42)/KNNClassifier(n_neighbors=5, window_size=1000))\n",
    "metric = BalancedAccuracy() #change the metric to display (Accuracy()/BalancedAccuracy()/ROCAUC()/F1())"
   ]
  },
  {
   "cell_type": "code",
   "execution_count": 37,
   "id": "0d94f85f",
   "metadata": {},
   "outputs": [],
   "source": [
    "# MY FAN\n",
    "if dataset == 'fan':\n",
    "    test_data = np.load('data/mimii/fan/ei-industry-4.0---predictivemaintenance---fan-spectrogram-X_testing.npy')\n",
    "    train_data = np.load('data/mimii/fan/ei-industry-4.0---predictivemaintenance---fan-spectrogram-X_training.npy')\n",
    "    train_labels = np.load('data/mimii/fan/ei-industry-4.0---predictivemaintenance---fan-spectrogram-y_training.npy')\n",
    "    test_labels = np.load('data/mimii/fan/ei-industry-4.0---predictivemaintenance---fan-spectrogram-y_testing.npy')\n",
    "    \n",
    "    model1 = keras.models.load_model('data/mimii/fan/model.h5')"
   ]
  },
  {
   "cell_type": "code",
   "execution_count": 38,
   "id": "64508002",
   "metadata": {},
   "outputs": [],
   "source": [
    "# MY PUMP\n",
    "if dataset == 'pump':\n",
    "\n",
    "    test_data = np.load('data/mimii/pump/ei-industry-4.0---predictive-maintenance---pump-mfe-X_testing.npy')\n",
    "    train_data = np.load('data/mimii/pump/ei-industry-4.0---predictive-maintenance---pump-mfe-X_training.npy')\n",
    "    train_labels = np.load('data/mimii/pump/ei-industry-4.0---predictive-maintenance---pump-mfe-y_training.npy')\n",
    "    test_labels = np.load('data/mimii/pump/ei-industry-4.0---predictive-maintenance---pump-mfe-y_testing.npy')\n",
    "    \n",
    "    model1 = keras.models.load_model('data/mimii/pump/model.h5')"
   ]
  },
  {
   "cell_type": "code",
   "execution_count": 39,
   "id": "bd1a2998",
   "metadata": {},
   "outputs": [],
   "source": [
    "# MY VALVE\n",
    "if dataset == 'valve':\n",
    "    \n",
    "    test_data = np.load('data/mimii/valve/ei-industry-4.0---predictive-maintenance---valve-spectrogram-X_testing.npy')\n",
    "    train_data = np.load('data/mimii/valve/ei-industry-4.0---predictive-maintenance---valve-spectrogram-X_training.npy')\n",
    "    train_labels = np.load('data/mimii/valve/ei-industry-4.0---predictive-maintenance---valve-spectrogram-y_training.npy')\n",
    "    test_labels = np.load('data/mimii/valve/ei-industry-4.0---predictive-maintenance---valve-spectrogram-y_testing.npy')\n",
    "    \n",
    "    model1 = keras.models.load_model('data/mimii/valve/model.h5')"
   ]
  },
  {
   "cell_type": "code",
   "execution_count": 40,
   "id": "99316894",
   "metadata": {},
   "outputs": [],
   "source": [
    "train_labels[train_labels[:,0]==2,0] = 0\n",
    "test_labels[test_labels[:,0]==2,0] = 0"
   ]
  },
  {
   "cell_type": "code",
   "execution_count": 41,
   "id": "5d832b50",
   "metadata": {},
   "outputs": [
    {
     "name": "stdout",
     "output_type": "stream",
     "text": [
      "Model: \"sequential\"\n",
      "_________________________________________________________________\n",
      " Layer (type)                Output Shape              Param #   \n",
      "=================================================================\n",
      " reshape (Reshape)           (None, 199, 129)          0         \n",
      "                                                                 \n",
      " conv1d (Conv1D)             (None, 199, 8)            3104      \n",
      "                                                                 \n",
      " max_pooling1d (MaxPooling1  (None, 100, 8)            0         \n",
      " D)                                                              \n",
      "                                                                 \n",
      " dropout (Dropout)           (None, 100, 8)            0         \n",
      "                                                                 \n",
      " conv1d_1 (Conv1D)           (None, 100, 16)           400       \n",
      "                                                                 \n",
      " max_pooling1d_1 (MaxPoolin  (None, 50, 16)            0         \n",
      " g1D)                                                            \n",
      "                                                                 \n",
      " dropout_1 (Dropout)         (None, 50, 16)            0         \n",
      "                                                                 \n",
      " flatten (Flatten)           (None, 800)               0         \n",
      "                                                                 \n",
      " dense (Dense)               (None, 20)                16020     \n",
      "                                                                 \n",
      " dense_1 (Dense)             (None, 10)                210       \n",
      "                                                                 \n",
      " y_pred (Dense)              (None, 2)                 22        \n",
      "                                                                 \n",
      "=================================================================\n",
      "Total params: 19756 (77.17 KB)\n",
      "Trainable params: 19756 (77.17 KB)\n",
      "Non-trainable params: 0 (0.00 Byte)\n",
      "_________________________________________________________________\n"
     ]
    }
   ],
   "source": [
    "model1.summary()"
   ]
  },
  {
   "cell_type": "code",
   "execution_count": 42,
   "id": "600685e5",
   "metadata": {},
   "outputs": [],
   "source": [
    "#model.pop()\n",
    "#model.summary()"
   ]
  },
  {
   "cell_type": "code",
   "execution_count": 43,
   "id": "0acd86cc",
   "metadata": {
    "scrolled": true
   },
   "outputs": [
    {
     "name": "stdout",
     "output_type": "stream",
     "text": [
      "97/97 [==============================] - 1s 7ms/step\n",
      "(3087, 800)\n"
     ]
    }
   ],
   "source": [
    "feature_extractor = keras.Model(\n",
    "   inputs=model1.inputs,\n",
    "   outputs=model1.get_layer(name=\"flatten\").output)\n",
    "\n",
    "#feature_extractor = keras.Model(\n",
    "#   inputs=model.inputs,\n",
    "#   outputs=model.get_layer(name=\"dense\").output)\n",
    "\n",
    "features = feature_extractor.predict(train_data)\n",
    "\n",
    "print(features.shape)"
   ]
  },
  {
   "cell_type": "code",
   "execution_count": 44,
   "id": "c2c9fa3d",
   "metadata": {},
   "outputs": [],
   "source": [
    "metrics = metric\n",
    "#model.window = 1000\n",
    "\n",
    "features_df = pd.DataFrame(features)\n",
    "#labels_df = pd.DataFrame(train_labels[:,0])\n",
    "labels_series = pd.Series(train_labels[:,0])\n",
    "stream = iter_pandas(X=features_df, y=labels_series)"
   ]
  },
  {
   "cell_type": "code",
   "execution_count": 45,
   "id": "18ea3248",
   "metadata": {
    "scrolled": true
   },
   "outputs": [],
   "source": [
    "#shuffle the order of data grouped by 9\n",
    "\n",
    "if group_shuffle == 1:\n",
    "\n",
    "    distinct = len(set(train_labels[:,1]))\n",
    "\n",
    "    features_shuffle = np.zeros(features.shape)\n",
    "    train_labels_shuffle = np.zeros(train_labels[:,0].shape)\n",
    "\n",
    "    positions = random.sample(range(distinct),distinct)\n",
    "\n",
    "    for i in range(distinct):\n",
    "        pos = positions[i]\n",
    "        features_shuffle[i*9:i*9+8,:] = features[pos*9:pos*9+8,:]\n",
    "        train_labels_shuffle[i*9:i*9+8] = train_labels[pos*9:pos*9+8,0]"
   ]
  },
  {
   "cell_type": "code",
   "execution_count": 46,
   "id": "bb980205",
   "metadata": {},
   "outputs": [],
   "source": [
    "#shuffle the order of data\n",
    "\n",
    "if shuffle == 1:\n",
    "\n",
    "    samples = features.shape[0]\n",
    "\n",
    "    features_shuffle = np.zeros(features.shape)\n",
    "    train_labels_shuffle = np.zeros(train_labels[:,0].shape)\n",
    "\n",
    "    positions = random.sample(range(samples),samples)\n",
    "\n",
    "    for i in range(samples):\n",
    "        pos = positions[i]\n",
    "        features_shuffle[i,:] = features[pos,:]\n",
    "        train_labels_shuffle[i] = train_labels[pos,0]"
   ]
  },
  {
   "cell_type": "code",
   "execution_count": 47,
   "id": "0f941f8d",
   "metadata": {},
   "outputs": [],
   "source": [
    "if shuffle+group_shuffle == 1:\n",
    "\n",
    "    features_df_shuffle = pd.DataFrame(features_shuffle)\n",
    "    labels_series_shuffle = pd.Series(train_labels_shuffle)\n",
    "    stream_shuffle = iter_pandas(X=features_df_shuffle, y=labels_series_shuffle)\n",
    "    #model = ARFClassifier() #HoeffdingAdaptiveTreeClassifier() #GaussianNB() #KNNClassifier(n_neighbors=2, window_size=1000) #HoeffdingTreeClassifier() #HoeffdingAdaptiveTreeClassifier(seed=42)\n",
    "    #metrics = BalancedAccuracy()"
   ]
  },
  {
   "cell_type": "code",
   "execution_count": 48,
   "id": "90452daa",
   "metadata": {},
   "outputs": [],
   "source": [
    "if shuffle+group_shuffle == 1:\n",
    "    \n",
    "    progressive_val_score(dataset=stream_shuffle,\n",
    "                          model=model,\n",
    "                          metric=metrics,\n",
    "                          print_every=100)"
   ]
  },
  {
   "cell_type": "code",
   "execution_count": 49,
   "id": "889c0052",
   "metadata": {},
   "outputs": [
    {
     "name": "stdout",
     "output_type": "stream",
     "text": [
      "[100] BalancedAccuracy: 100.00%\n",
      "[200] BalancedAccuracy: 88.16%\n",
      "[300] BalancedAccuracy: 96.74%\n",
      "[400] BalancedAccuracy: 95.23%\n",
      "[500] BalancedAccuracy: 95.76%\n",
      "[600] BalancedAccuracy: 96.05%\n",
      "[700] BalancedAccuracy: 96.23%\n",
      "[800] BalancedAccuracy: 96.36%\n",
      "[900] BalancedAccuracy: 96.46%\n",
      "[1,000] BalancedAccuracy: 96.53%\n",
      "[1,100] BalancedAccuracy: 96.58%\n",
      "[1,200] BalancedAccuracy: 95.32%\n",
      "[1,300] BalancedAccuracy: 95.79%\n",
      "[1,400] BalancedAccuracy: 96.55%\n",
      "[1,500] BalancedAccuracy: 96.98%\n",
      "[1,600] BalancedAccuracy: 97.44%\n",
      "[1,700] BalancedAccuracy: 97.76%\n",
      "[1,800] BalancedAccuracy: 98.00%\n",
      "[1,900] BalancedAccuracy: 98.18%\n",
      "[2,000] BalancedAccuracy: 98.32%\n",
      "[2,100] BalancedAccuracy: 98.44%\n",
      "[2,200] BalancedAccuracy: 98.53%\n",
      "[2,300] BalancedAccuracy: 98.62%\n",
      "[2,400] BalancedAccuracy: 98.69%\n",
      "[2,500] BalancedAccuracy: 98.75%\n",
      "[2,600] BalancedAccuracy: 98.80%\n",
      "[2,700] BalancedAccuracy: 98.84%\n",
      "[2,800] BalancedAccuracy: 98.88%\n",
      "[2,900] BalancedAccuracy: 98.92%\n",
      "[3,000] BalancedAccuracy: 98.95%\n",
      "[3,087] BalancedAccuracy: 98.98%\n"
     ]
    }
   ],
   "source": [
    "if shuffle+group_shuffle == 0:\n",
    "\n",
    "    progressive_val_score(dataset=stream,\n",
    "                          model=model,\n",
    "                          metric=metrics,\n",
    "                          print_every=100)"
   ]
  },
  {
   "cell_type": "code",
   "execution_count": 50,
   "id": "e6a4b699",
   "metadata": {},
   "outputs": [
    {
     "name": "stdout",
     "output_type": "stream",
     "text": [
      "24/24 [==============================] - 0s 7ms/step\n"
     ]
    }
   ],
   "source": [
    "features2 = feature_extractor.predict(test_data)\n",
    "features_df2 = pd.DataFrame(features2)\n",
    "labels_series2 = pd.Series(test_labels[:,0])\n",
    "stream2 = iter_pandas(X=features_df2, y=labels_series2)\n",
    "metrics= BalancedAccuracy()\n",
    "#ROCAUC()\n",
    "#Accuracy()\n",
    "#BalancedAccuracy()\n",
    "#F1()"
   ]
  },
  {
   "cell_type": "code",
   "execution_count": 51,
   "id": "06be5c96",
   "metadata": {},
   "outputs": [
    {
     "name": "stdout",
     "output_type": "stream",
     "text": [
      "[100] BalancedAccuracy: 85.76%\n",
      "[200] BalancedAccuracy: 93.37%\n",
      "[300] BalancedAccuracy: 95.83%\n",
      "[400] BalancedAccuracy: 90.95%\n",
      "[500] BalancedAccuracy: 94.69%\n",
      "[600] BalancedAccuracy: 95.54%\n",
      "[700] BalancedAccuracy: 96.07%\n",
      "[756] BalancedAccuracy: 96.26%\n"
     ]
    },
    {
     "data": {
      "text/plain": [
       "BalancedAccuracy: 96.26%"
      ]
     },
     "execution_count": 51,
     "metadata": {},
     "output_type": "execute_result"
    }
   ],
   "source": [
    "progressive_val_score(dataset=stream2,\n",
    "                      model=model,\n",
    "                      metric=metrics,\n",
    "                      delay=delay,\n",
    "                      print_every=100)"
   ]
  },
  {
   "cell_type": "code",
   "execution_count": null,
   "id": "82460f19",
   "metadata": {},
   "outputs": [],
   "source": []
  }
 ],
 "metadata": {
  "kernelspec": {
   "display_name": "Python 3 (ipykernel)",
   "language": "python",
   "name": "python3"
  },
  "language_info": {
   "codemirror_mode": {
    "name": "ipython",
    "version": 3
   },
   "file_extension": ".py",
   "mimetype": "text/x-python",
   "name": "python",
   "nbconvert_exporter": "python",
   "pygments_lexer": "ipython3",
   "version": "3.10.7"
  }
 },
 "nbformat": 4,
 "nbformat_minor": 5
}
