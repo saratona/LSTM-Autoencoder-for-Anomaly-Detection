{
 "cells": [
  {
   "cell_type": "code",
   "execution_count": 1,
   "id": "e52e8414",
   "metadata": {},
   "outputs": [
    {
     "name": "stderr",
     "output_type": "stream",
     "text": [
      "2024-03-18 13:18:00.853640: I tensorflow/core/platform/cpu_feature_guard.cc:182] This TensorFlow binary is optimized to use available CPU instructions in performance-critical operations.\n",
      "To enable the following instructions: AVX2 FMA, in other operations, rebuild TensorFlow with the appropriate compiler flags.\n"
     ]
    }
   ],
   "source": [
    "import numpy as np\n",
    "import pandas as pd\n",
    "import random\n",
    "import tensorflow as tf\n",
    "from tensorflow import keras\n",
    "import river\n",
    "from river.stream import iter_pandas\n",
    "from river.metrics import Accuracy,BalancedAccuracy,CohenKappa,GeometricMean,ROCAUC,F1\n",
    "from river.evaluate import progressive_val_score\n",
    "from river.naive_bayes import GaussianNB\n",
    "from river.neighbors import KNNClassifier\n",
    "from river.forest import ARFClassifier\n",
    "from river.tree import HoeffdingTreeClassifier\n",
    "from river.tree import HoeffdingAdaptiveTreeClassifier"
   ]
  },
  {
   "cell_type": "code",
   "execution_count": 2,
   "id": "f8d47f5a",
   "metadata": {},
   "outputs": [],
   "source": [
    "from river_torch import classification\n",
    "from torch import nn\n",
    "from torch import optim\n",
    "from torch import manual_seed"
   ]
  },
  {
   "cell_type": "code",
   "execution_count": 4,
   "id": "f5823d3f",
   "metadata": {},
   "outputs": [],
   "source": [
    "# FAN PROJECT\n",
    "test_data = np.load('/Users/saratonazzi/Documents/Tesi/Project/project_data/EdgeImpulse/fan/ei-industry-4.0---predictivemaintenance---fan-spectrogram-X_testing.npy')\n",
    "train_data = np.load('/Users/saratonazzi/Documents/Tesi/Project/project_data/EdgeImpulse/fan/ei-industry-4.0---predictivemaintenance---fan-spectrogram-X_training.npy')\n",
    "train_labels = np.load('/Users/saratonazzi/Documents/Tesi/Project/project_data/EdgeImpulse/fan/ei-industry-4.0---predictivemaintenance---fan-spectrogram-y_training.npy')\n",
    "test_labels = np.load('/Users/saratonazzi/Documents/Tesi/Project/project_data/EdgeImpulse/fan/ei-industry-4.0---predictivemaintenance---fan-spectrogram-y_testing.npy')"
   ]
  },
  {
   "cell_type": "code",
   "execution_count": 22,
   "id": "04c891b5",
   "metadata": {},
   "outputs": [],
   "source": [
    "# MY FAN2\n",
    "test_data = np.load('/Users/saratonazzi/Documents/Python/Tesi/fan2/ei-industry-4.0---predictivemaintenance---fan-spectrogram-X_testing.npy')\n",
    "train_data = np.load('/Users/saratonazzi/Documents/Python/Tesi/fan2/ei-industry-4.0---predictivemaintenance---fan-spectrogram-X_training.npy')\n",
    "train_labels = np.load('/Users/saratonazzi/Documents/Python/Tesi/fan2/ei-industry-4.0---predictivemaintenance---fan-spectrogram-y_training.npy')\n",
    "test_labels = np.load('/Users/saratonazzi/Documents/Python/Tesi/fan2/ei-industry-4.0---predictivemaintenance---fan-spectrogram-y_testing.npy')"
   ]
  },
  {
   "cell_type": "code",
   "execution_count": 62,
   "id": "0d94f85f",
   "metadata": {},
   "outputs": [],
   "source": [
    "# MY FAN\n",
    "test_data = np.load('/Users/saratonazzi/Documents/Python/Tesi/mydata/fan/ei-industry-4.0---predictivemaintenance---fan-spectrogram-X_testing.npy')\n",
    "train_data = np.load('/Users/saratonazzi/Documents/Python/Tesi/mydata/fan/ei-industry-4.0---predictivemaintenance---fan-spectrogram-X_training.npy')\n",
    "train_labels = np.load('/Users/saratonazzi/Documents/Python/Tesi/mydata/fan/ei-industry-4.0---predictivemaintenance---fan-spectrogram-y_training.npy')\n",
    "test_labels = np.load('/Users/saratonazzi/Documents/Python/Tesi/mydata/fan/ei-industry-4.0---predictivemaintenance---fan-spectrogram-y_testing.npy')"
   ]
  },
  {
   "cell_type": "code",
   "execution_count": 6,
   "id": "64508002",
   "metadata": {},
   "outputs": [],
   "source": [
    "# MY PUMP\n",
    "test_data = np.load('/Users/saratonazzi/Documents/Python/Tesi/mydata/pump/ei-industry-4.0---predictive-maintenance---pump-mfe-X_testing.npy')\n",
    "train_data = np.load('/Users/saratonazzi/Documents/Python/Tesi/mydata/pump/ei-industry-4.0---predictive-maintenance---pump-mfe-X_training.npy')\n",
    "train_labels = np.load('/Users/saratonazzi/Documents/Python/Tesi/mydata/pump/ei-industry-4.0---predictive-maintenance---pump-mfe-y_training.npy')\n",
    "test_labels = np.load('/Users/saratonazzi/Documents/Python/Tesi/mydata/pump/ei-industry-4.0---predictive-maintenance---pump-mfe-y_testing.npy')"
   ]
  },
  {
   "cell_type": "code",
   "execution_count": 172,
   "id": "bd1a2998",
   "metadata": {},
   "outputs": [],
   "source": [
    "# MY VALVE\n",
    "test_data = np.load('/Users/saratonazzi/Documents/Python/Tesi/mydata/valve/ei-industry-4.0---predictive-maintenance---valve-spectrogram-X_testing.npy')\n",
    "train_data = np.load('/Users/saratonazzi/Documents/Python/Tesi/mydata/valve/ei-industry-4.0---predictive-maintenance---valve-spectrogram-X_training.npy')\n",
    "train_labels = np.load('/Users/saratonazzi/Documents/Python/Tesi/mydata/valve/ei-industry-4.0---predictive-maintenance---valve-spectrogram-y_training.npy')\n",
    "test_labels = np.load('/Users/saratonazzi/Documents/Python/Tesi/mydata/valve/ei-industry-4.0---predictive-maintenance---valve-spectrogram-y_testing.npy')"
   ]
  },
  {
   "cell_type": "code",
   "execution_count": 7,
   "id": "99316894",
   "metadata": {},
   "outputs": [],
   "source": [
    "train_labels[train_labels[:,0]==2,0] = 0\n",
    "test_labels[test_labels[:,0]==2,0] = 0"
   ]
  },
  {
   "cell_type": "code",
   "execution_count": 10,
   "id": "5d832b50",
   "metadata": {},
   "outputs": [
    {
     "name": "stdout",
     "output_type": "stream",
     "text": [
      "Model: \"sequential\"\n",
      "_________________________________________________________________\n",
      " Layer (type)                Output Shape              Param #   \n",
      "=================================================================\n",
      " reshape (Reshape)           (None, 299, 128)          0         \n",
      "                                                                 \n",
      " conv1d (Conv1D)             (None, 299, 8)            3080      \n",
      "                                                                 \n",
      " max_pooling1d (MaxPooling1  (None, 150, 8)            0         \n",
      " D)                                                              \n",
      "                                                                 \n",
      " dropout (Dropout)           (None, 150, 8)            0         \n",
      "                                                                 \n",
      " conv1d_1 (Conv1D)           (None, 150, 16)           400       \n",
      "                                                                 \n",
      " max_pooling1d_1 (MaxPoolin  (None, 75, 16)            0         \n",
      " g1D)                                                            \n",
      "                                                                 \n",
      " dropout_1 (Dropout)         (None, 75, 16)            0         \n",
      "                                                                 \n",
      " flatten (Flatten)           (None, 1200)              0         \n",
      "                                                                 \n",
      " dense (Dense)               (None, 20)                24020     \n",
      "                                                                 \n",
      " dense_1 (Dense)             (None, 10)                210       \n",
      "                                                                 \n",
      " y_pred (Dense)              (None, 2)                 22        \n",
      "                                                                 \n",
      "=================================================================\n",
      "Total params: 27732 (108.33 KB)\n",
      "Trainable params: 27732 (108.33 KB)\n",
      "Non-trainable params: 0 (0.00 Byte)\n",
      "_________________________________________________________________\n"
     ]
    }
   ],
   "source": [
    "model1 = keras.models.load_model('Documents/Python/Tesi/mydata/pump/model.h5')\n",
    "model1.summary()"
   ]
  },
  {
   "cell_type": "code",
   "execution_count": 65,
   "id": "600685e5",
   "metadata": {},
   "outputs": [],
   "source": [
    "#model.pop()\n",
    "#model.summary()"
   ]
  },
  {
   "cell_type": "code",
   "execution_count": 11,
   "id": "0acd86cc",
   "metadata": {
    "scrolled": true
   },
   "outputs": [
    {
     "name": "stdout",
     "output_type": "stream",
     "text": [
      "58/58 [==============================] - 1s 7ms/step\n",
      "(1856, 1200)\n"
     ]
    }
   ],
   "source": [
    "feature_extractor = keras.Model(\n",
    "   inputs=model1.inputs,\n",
    "   outputs=model1.get_layer(name=\"flatten\").output)\n",
    "\n",
    "#feature_extractor = keras.Model(\n",
    "#   inputs=model.inputs,\n",
    "#   outputs=model.get_layer(name=\"dense\").output)\n",
    "\n",
    "features = feature_extractor.predict(train_data)\n",
    "\n",
    "#print(features)\n",
    "print(features.shape)"
   ]
  },
  {
   "cell_type": "code",
   "execution_count": 12,
   "id": "c2c9fa3d",
   "metadata": {},
   "outputs": [],
   "source": [
    "metrics = BalancedAccuracy()\n",
    "#Accuracy()\n",
    "#F1()\n",
    "#ROCAUC()\n",
    "#metrics = [Accuracy(),BalancedAccuracy(),ROCAUC()]\n",
    "model = GaussianNB() #KNNClassifier(n_neighbors=2) #HoeffdingTreeClassifier() #ARFClassifier(seed=42) #KNNClassifier(n_neighbors=2) #HoeffdingAdaptiveTreeClassifier(seed=42)\n",
    "#model = KNNClassifier(n_neighbors=5, window_size=1000)\n",
    "model.window = 1000\n",
    "\n",
    "features_df = pd.DataFrame(features)\n",
    "#labels_df = pd.DataFrame(train_labels[:,0])\n",
    "labels_series = pd.Series(train_labels[:,0])\n",
    "stream = iter_pandas(X=features_df, y=labels_series)"
   ]
  },
  {
   "cell_type": "code",
   "execution_count": 74,
   "id": "18ea3248",
   "metadata": {
    "scrolled": true
   },
   "outputs": [
    {
     "ename": "ValueError",
     "evalue": "could not broadcast input array from shape (0,1200) into shape (8,1200)",
     "output_type": "error",
     "traceback": [
      "\u001b[0;31m---------------------------------------------------------------------------\u001b[0m",
      "\u001b[0;31mValueError\u001b[0m                                Traceback (most recent call last)",
      "Cell \u001b[0;32mIn [74], line 12\u001b[0m\n\u001b[1;32m     10\u001b[0m \u001b[38;5;28;01mfor\u001b[39;00m i \u001b[38;5;129;01min\u001b[39;00m \u001b[38;5;28mrange\u001b[39m(distinct):\n\u001b[1;32m     11\u001b[0m     pos \u001b[38;5;241m=\u001b[39m positions[i]\n\u001b[0;32m---> 12\u001b[0m     \u001b[43mfeatures_shuffle\u001b[49m\u001b[43m[\u001b[49m\u001b[43mi\u001b[49m\u001b[38;5;241;43m*\u001b[39;49m\u001b[38;5;241;43m9\u001b[39;49m\u001b[43m:\u001b[49m\u001b[43mi\u001b[49m\u001b[38;5;241;43m*\u001b[39;49m\u001b[38;5;241;43m9\u001b[39;49m\u001b[38;5;241;43m+\u001b[39;49m\u001b[38;5;241;43m8\u001b[39;49m\u001b[43m,\u001b[49m\u001b[43m:\u001b[49m\u001b[43m]\u001b[49m \u001b[38;5;241m=\u001b[39m features[pos\u001b[38;5;241m*\u001b[39m\u001b[38;5;241m9\u001b[39m:pos\u001b[38;5;241m*\u001b[39m\u001b[38;5;241m9\u001b[39m\u001b[38;5;241m+\u001b[39m\u001b[38;5;241m8\u001b[39m,:]\n\u001b[1;32m     13\u001b[0m     train_labels_shuffle[i\u001b[38;5;241m*\u001b[39m\u001b[38;5;241m9\u001b[39m:i\u001b[38;5;241m*\u001b[39m\u001b[38;5;241m9\u001b[39m\u001b[38;5;241m+\u001b[39m\u001b[38;5;241m8\u001b[39m] \u001b[38;5;241m=\u001b[39m train_labels[pos\u001b[38;5;241m*\u001b[39m\u001b[38;5;241m9\u001b[39m:pos\u001b[38;5;241m*\u001b[39m\u001b[38;5;241m9\u001b[39m\u001b[38;5;241m+\u001b[39m\u001b[38;5;241m8\u001b[39m,\u001b[38;5;241m0\u001b[39m]\n",
      "\u001b[0;31mValueError\u001b[0m: could not broadcast input array from shape (0,1200) into shape (8,1200)"
     ]
    }
   ],
   "source": [
    "#shuffle the order of data grouped by 9\n",
    "\n",
    "distinct = len(set(train_labels[:,1]))\n",
    "\n",
    "features_shuffle = np.zeros(features.shape)\n",
    "train_labels_shuffle = np.zeros(train_labels[:,0].shape)\n",
    "\n",
    "positions = random.sample(range(distinct),distinct)\n",
    "\n",
    "for i in range(distinct):\n",
    "    pos = positions[i]\n",
    "    features_shuffle[i*9:i*9+8,:] = features[pos*9:pos*9+8,:]\n",
    "    train_labels_shuffle[i*9:i*9+8] = train_labels[pos*9:pos*9+8,0]"
   ]
  },
  {
   "cell_type": "code",
   "execution_count": 75,
   "id": "bb980205",
   "metadata": {},
   "outputs": [],
   "source": [
    "#shuffle the order of data\n",
    "\n",
    "samples = features.shape[0]\n",
    "\n",
    "features_shuffle = np.zeros(features.shape)\n",
    "train_labels_shuffle = np.zeros(train_labels[:,0].shape)\n",
    "\n",
    "positions = random.sample(range(samples),samples)\n",
    "\n",
    "for i in range(samples):\n",
    "    pos = positions[i]\n",
    "    features_shuffle[i,:] = features[pos,:]\n",
    "    train_labels_shuffle[i] = train_labels[pos,0]"
   ]
  },
  {
   "cell_type": "code",
   "execution_count": 76,
   "id": "0f941f8d",
   "metadata": {},
   "outputs": [],
   "source": [
    "features_df_shuffle = pd.DataFrame(features_shuffle)\n",
    "labels_series_shuffle = pd.Series(train_labels_shuffle)\n",
    "stream_shuffle = iter_pandas(X=features_df_shuffle, y=labels_series_shuffle)\n",
    "#model = ARFClassifier() #HoeffdingAdaptiveTreeClassifier() #GaussianNB() #KNNClassifier(n_neighbors=2, window_size=1000) #HoeffdingTreeClassifier() #HoeffdingAdaptiveTreeClassifier(seed=42)\n",
    "#metrics = BalancedAccuracy()"
   ]
  },
  {
   "cell_type": "code",
   "execution_count": 84,
   "id": "90452daa",
   "metadata": {},
   "outputs": [
    {
     "ename": "NameError",
     "evalue": "name 'stream_shuffle' is not defined",
     "output_type": "error",
     "traceback": [
      "\u001b[0;31m---------------------------------------------------------------------------\u001b[0m",
      "\u001b[0;31mNameError\u001b[0m                                 Traceback (most recent call last)",
      "Cell \u001b[0;32mIn [84], line 1\u001b[0m\n\u001b[0;32m----> 1\u001b[0m progressive_val_score(dataset\u001b[38;5;241m=\u001b[39m\u001b[43mstream_shuffle\u001b[49m,\n\u001b[1;32m      2\u001b[0m                       model\u001b[38;5;241m=\u001b[39mmodel,\n\u001b[1;32m      3\u001b[0m                       metric\u001b[38;5;241m=\u001b[39mmetrics,\n\u001b[1;32m      4\u001b[0m                       print_every\u001b[38;5;241m=\u001b[39m\u001b[38;5;241m100\u001b[39m)\n",
      "\u001b[0;31mNameError\u001b[0m: name 'stream_shuffle' is not defined"
     ]
    }
   ],
   "source": [
    "progressive_val_score(dataset=stream_shuffle,\n",
    "                      model=model,\n",
    "                      metric=metrics,\n",
    "                      print_every=100)"
   ]
  },
  {
   "cell_type": "code",
   "execution_count": 165,
   "id": "889c0052",
   "metadata": {},
   "outputs": [
    {
     "name": "stdout",
     "output_type": "stream",
     "text": [
      "[100] BalancedAccuracy: 100.00%\n",
      "[200] BalancedAccuracy: 98.68%\n",
      "[300] BalancedAccuracy: 98.91%\n",
      "[400] BalancedAccuracy: 98.69%\n",
      "[500] BalancedAccuracy: 98.69%\n",
      "[600] BalancedAccuracy: 98.69%\n",
      "[700] BalancedAccuracy: 98.69%\n",
      "[800] BalancedAccuracy: 98.69%\n",
      "[900] BalancedAccuracy: 98.69%\n",
      "[1,000] BalancedAccuracy: 98.69%\n",
      "[1,100] BalancedAccuracy: 98.69%\n",
      "[1,200] BalancedAccuracy: 97.83%\n",
      "[1,300] BalancedAccuracy: 93.73%\n",
      "[1,400] BalancedAccuracy: 94.75%\n",
      "[1,500] BalancedAccuracy: 95.22%\n",
      "[1,600] BalancedAccuracy: 96.06%\n",
      "[1,700] BalancedAccuracy: 96.42%\n",
      "[1,800] BalancedAccuracy: 96.88%\n",
      "[1,900] BalancedAccuracy: 97.23%\n",
      "[2,000] BalancedAccuracy: 97.46%\n",
      "[2,100] BalancedAccuracy: 97.70%\n",
      "[2,200] BalancedAccuracy: 97.89%\n",
      "[2,300] BalancedAccuracy: 98.05%\n",
      "[2,400] BalancedAccuracy: 98.19%\n",
      "[2,500] BalancedAccuracy: 98.31%\n",
      "[2,600] BalancedAccuracy: 98.42%\n",
      "[2,700] BalancedAccuracy: 98.51%\n",
      "[2,800] BalancedAccuracy: 98.59%\n",
      "[2,900] BalancedAccuracy: 98.66%\n",
      "[3,000] BalancedAccuracy: 98.73%\n",
      "[3,087] BalancedAccuracy: 98.78%\n"
     ]
    },
    {
     "data": {
      "text/plain": [
       "BalancedAccuracy: 98.78%"
      ]
     },
     "execution_count": 165,
     "metadata": {},
     "output_type": "execute_result"
    }
   ],
   "source": [
    "progressive_val_score(dataset=stream,\n",
    "                      model=model,\n",
    "                      metric=metrics,\n",
    "                      print_every=100)"
   ]
  },
  {
   "cell_type": "code",
   "execution_count": 166,
   "id": "e6a4b699",
   "metadata": {},
   "outputs": [
    {
     "name": "stdout",
     "output_type": "stream",
     "text": [
      "24/24 [==============================] - 1s 14ms/step\n"
     ]
    }
   ],
   "source": [
    "features2 = feature_extractor.predict(test_data)\n",
    "features_df2 = pd.DataFrame(features2)\n",
    "labels_series2 = pd.Series(test_labels[:,0])\n",
    "stream2 = iter_pandas(X=features_df2, y=labels_series2)\n",
    "metrics= BalancedAccuracy()\n",
    "#ROCAUC()\n",
    "#Accuracy()\n",
    "#BalancedAccuracy()\n",
    "#F1()"
   ]
  },
  {
   "cell_type": "code",
   "execution_count": 167,
   "id": "06be5c96",
   "metadata": {},
   "outputs": [
    {
     "name": "stdout",
     "output_type": "stream",
     "text": [
      "[100] BalancedAccuracy: 88.89%\n",
      "[200] BalancedAccuracy: 96.35%\n",
      "[300] BalancedAccuracy: 97.05%\n",
      "[400] BalancedAccuracy: 97.84%\n",
      "[500] BalancedAccuracy: 97.56%\n",
      "[600] BalancedAccuracy: 95.30%\n",
      "[700] BalancedAccuracy: 95.71%\n",
      "[756] BalancedAccuracy: 95.99%\n"
     ]
    },
    {
     "data": {
      "text/plain": [
       "BalancedAccuracy: 95.99%"
      ]
     },
     "execution_count": 167,
     "metadata": {},
     "output_type": "execute_result"
    }
   ],
   "source": [
    "progressive_val_score(dataset=stream2,\n",
    "                      model=model,\n",
    "                      metric=metrics,\n",
    "                      delay=10,\n",
    "                      print_every=100)"
   ]
  },
  {
   "cell_type": "code",
   "execution_count": null,
   "id": "82460f19",
   "metadata": {},
   "outputs": [],
   "source": []
  }
 ],
 "metadata": {
  "kernelspec": {
   "display_name": "Python 3 (ipykernel)",
   "language": "python",
   "name": "python3"
  },
  "language_info": {
   "codemirror_mode": {
    "name": "ipython",
    "version": 3
   },
   "file_extension": ".py",
   "mimetype": "text/x-python",
   "name": "python",
   "nbconvert_exporter": "python",
   "pygments_lexer": "ipython3",
   "version": "3.10.7"
  }
 },
 "nbformat": 4,
 "nbformat_minor": 5
}
